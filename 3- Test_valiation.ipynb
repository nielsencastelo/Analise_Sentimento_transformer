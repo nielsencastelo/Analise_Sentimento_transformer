{
 "cells": [
  {
   "cell_type": "code",
   "execution_count": 7,
   "metadata": {},
   "outputs": [],
   "source": [
    "from prediction import Prediction\n",
    "import pandas as pd\n",
    "import numpy as np\n",
    "import pandas as pd\n",
    "\n",
    "import seaborn as sns\n",
    "import numpy as np\n",
    "import re\n",
    "\n",
    "from utils import get_top_category, get_top_categories, preprocessamento"
   ]
  },
  {
   "cell_type": "code",
   "execution_count": 4,
   "metadata": {},
   "outputs": [
    {
     "name": "stdout",
     "output_type": "stream",
     "text": [
      "WARNING:tensorflow:Error in loading the saved optimizer state. As a result, your model is starting with a freshly initialized optimizer.\n",
      "Model: \"model_6\"\n",
      "__________________________________________________________________________________________________\n",
      " Layer (type)                   Output Shape         Param #     Connected to                     \n",
      "==================================================================================================\n",
      " input_7 (InputLayer)           [(None, 100)]        0           []                               \n",
      "                                                                                                  \n",
      " embedding_layer (Embedding)    (None, 100, 100)     4583700     ['input_7[0][0]']                \n",
      "                                                                                                  \n",
      " dropout_12 (Dropout)           (None, 100, 100)     0           ['embedding_layer[0][0]']        \n",
      "                                                                                                  \n",
      " bidirectional_12 (Bidirectiona  (None, 100, 80)     45120       ['dropout_12[0][0]']             \n",
      " l)                                                                                               \n",
      "                                                                                                  \n",
      " bidirectional_13 (Bidirectiona  (None, 100, 80)     34080       ['dropout_12[0][0]']             \n",
      " l)                                                                                               \n",
      "                                                                                                  \n",
      " Attention_LSTM (Attention)     (None, 80)           4100        ['bidirectional_12[0][0]']       \n",
      "                                                                                                  \n",
      " Attention_GRU (Attention)      (None, 80)           4100        ['bidirectional_13[0][0]']       \n",
      "                                                                                                  \n",
      " concatenate_6 (Concatenate)    (None, 160)          0           ['Attention_LSTM[0][0]',         \n",
      "                                                                  'Attention_GRU[0][0]']          \n",
      "                                                                                                  \n",
      " dense_12 (Dense)               (None, 16)           2576        ['concatenate_6[0][0]']          \n",
      "                                                                                                  \n",
      " activation_6 (Activation)      (None, 16)           0           ['dense_12[0][0]']               \n",
      "                                                                                                  \n",
      " dropout_13 (Dropout)           (None, 16)           0           ['activation_6[0][0]']           \n",
      "                                                                                                  \n",
      " flatten_6 (Flatten)            (None, 16)           0           ['dropout_13[0][0]']             \n",
      "                                                                                                  \n",
      " dense_13 (Dense)               (None, 3)            51          ['flatten_6[0][0]']              \n",
      "                                                                                                  \n",
      "==================================================================================================\n",
      "Total params: 4,673,727\n",
      "Trainable params: 4,673,727\n",
      "Non-trainable params: 0\n",
      "__________________________________________________________________________________________________\n"
     ]
    }
   ],
   "source": [
    "model = Prediction(path_model=r'modelos\\26_12_2024')\n",
    "categories = model.getCategorias()"
   ]
  },
  {
   "cell_type": "code",
   "execution_count": 9,
   "metadata": {},
   "outputs": [
    {
     "name": "stdout",
     "output_type": "stream",
     "text": [
      "1/1 [==============================] - 0s 51ms/step\n",
      "Predição: [0.59034944 0.02546933 0.38418123]\n",
      "A categoria com maior probabilidade é: negativo\n"
     ]
    }
   ],
   "source": [
    "sentence = \"O produto veio com defeito e não funciona como esperado.\"\n",
    "prediction = model.run_predict(preprocessamento(sentence))\n",
    "print(\"Predição:\", prediction)\n",
    "top_category  = get_top_category(prediction, categories)\n",
    "\n",
    "print(f\"A categoria com maior probabilidade é: {top_category}\")\n"
   ]
  },
  {
   "cell_type": "code",
   "execution_count": 14,
   "metadata": {},
   "outputs": [
    {
     "name": "stdout",
     "output_type": "stream",
     "text": [
      "1/1 [==============================] - 0s 44ms/step\n",
      "Predições: [[9.9962866e-01 4.0605075e-05 3.3068360e-04]\n",
      " [9.9906856e-01 5.1007963e-05 8.8048965e-04]\n",
      " [4.8279583e-02 4.1351477e-03 9.4758534e-01]]\n",
      "Sentença: 'Eu so queria poder chegar em casa e me aconchegar no colo do meu amor :(' -> Categoria: negativo\n",
      "Sentença: ''Corta o cabelo sim!!!! Vai ficar linda ❤️❤️ — to esperando ele crescer mais um pouquinho p cortar no ombro de novooo, mas ai q duvida kkkk :( o... https://t.co/NkPjQJA0z2'' -> Categoria: negativo\n",
      "Sentença: 'O atendimento foi normal, sem grandes problemas.' -> Categoria: positivo\n"
     ]
    }
   ],
   "source": [
    "sentences = [\n",
    "    \"Eu so queria poder chegar em casa e me aconchegar no colo do meu amor :(\",\n",
    "    \"'Corta o cabelo sim!!!! Vai ficar linda ❤️❤️ — to esperando ele crescer mais um pouquinho p cortar no ombro de novooo, mas ai q duvida kkkk :( o... https://t.co/NkPjQJA0z2'\",\n",
    "    \"O atendimento foi normal, sem grandes problemas.\"\n",
    "]\n",
    "processed_texts = [preprocessamento(text) for text in sentences]\n",
    "\n",
    "predictions = model.run_predict_all(processed_texts)\n",
    "print(\"Predições:\", predictions)\n",
    "top_categories  = get_top_categories(predictions, categories)\n",
    "\n",
    "for sentence, category in zip(sentences, top_categories):\n",
    "    print(f\"Sentença: '{sentence}' -> Categoria: {category}\")\n",
    "\n"
   ]
  }
 ],
 "metadata": {
  "kernelspec": {
   "display_name": "GPU",
   "language": "python",
   "name": "python3"
  },
  "language_info": {
   "codemirror_mode": {
    "name": "ipython",
    "version": 3
   },
   "file_extension": ".py",
   "mimetype": "text/x-python",
   "name": "python",
   "nbconvert_exporter": "python",
   "pygments_lexer": "ipython3",
   "version": "3.8.20"
  }
 },
 "nbformat": 4,
 "nbformat_minor": 2
}
