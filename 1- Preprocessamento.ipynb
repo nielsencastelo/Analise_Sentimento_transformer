{
  "cells": [
    {
      "cell_type": "markdown",
      "metadata": {
        "id": "AGgw36kc8udU"
      },
      "source": [
        "# Pre-processamento para classificação de sentimentos"
      ]
    },
    {
      "cell_type": "markdown",
      "metadata": {
        "id": "JtJGnXGi8zt9"
      },
      "source": [
        "# Etapa 1: Importação e instalação das bibliotecas"
      ]
    },
    {
      "cell_type": "code",
      "execution_count": 1,
      "metadata": {
        "id": "DelYAveq8yuX"
      },
      "outputs": [],
      "source": [
        "import pandas as pd\n",
        "import string\n",
        "import spacy\n",
        "import random\n",
        "import seaborn as sns  \n",
        "import numpy as np\n",
        "import re\n",
        "import os"
      ]
    },
    {
      "cell_type": "markdown",
      "metadata": {
        "id": "iE3VMD8t86ky"
      },
      "source": [
        "# Etapa 2: Carregamento das bases de dados\n",
        "\n",
        "- Fonte dos dados\n",
        ": https://www.kaggle.com/augustop/portuguese-tweets-for-sentiment-analysis#TweetsNeutralHash.csv"
      ]
    },
    {
      "cell_type": "markdown",
      "metadata": {
        "id": "472HCiGNxsGm"
      },
      "source": [
        "## Base de treinamento\n",
        "\n",
        "- Negative label: 0\n",
        "- Positive label: 1\n",
        "- Neutro label: 2"
      ]
    },
    {
      "cell_type": "code",
      "execution_count": 22,
      "metadata": {
        "id": "jqsZesTIj1D1"
      },
      "outputs": [
        {
          "name": "stdout",
          "output_type": "stream",
          "text": [
            "(96521, 2)\n"
          ]
        }
      ],
      "source": [
        "df = pd.read_parquet('dataset/train.parquet')\n",
        "print(df.shape)"
      ]
    },
    {
      "cell_type": "code",
      "execution_count": 12,
      "metadata": {
        "colab": {
          "base_uri": "https://localhost:8080/",
          "height": 430
        },
        "id": "IVVwuPGhkm5h",
        "outputId": "77f0a706-e08c-4702-86ed-bf4e904bc096"
      },
      "outputs": [
        {
          "data": {
            "text/plain": [
              "sentimento\n",
              "positivo    32634\n",
              "negativo    32331\n",
              "neutro      31556\n",
              "Name: count, dtype: int64"
            ]
          },
          "execution_count": 12,
          "metadata": {},
          "output_type": "execute_result"
        }
      ],
      "source": [
        "df['sentimento'].value_counts()"
      ]
    },
    {
      "cell_type": "markdown",
      "metadata": {
        "id": "h36-8Ien-AQ1"
      },
      "source": [
        "# Etapa 3: Função para pré-processamento dos textos\n",
        "\n",
        "- Letras minúsculas\n",
        "- Nome do usuário (@)\n",
        "- URLs\n",
        "- Espaços em branco\n",
        "- Emoticons\n",
        "- Stop words\n",
        "- Lematização\n",
        "- Pontuações"
      ]
    },
    {
      "cell_type": "code",
      "execution_count": null,
      "metadata": {},
      "outputs": [],
      "source": [
        "# !python -m spacy download pt_core_news_sm"
      ]
    },
    {
      "cell_type": "code",
      "execution_count": 13,
      "metadata": {
        "colab": {
          "base_uri": "https://localhost:8080/"
        },
        "id": "gOur6ftJnKuP",
        "outputId": "fb38de43-d314-4526-e38e-b1f420bb4fe3"
      },
      "outputs": [],
      "source": [
        "pln = spacy.load('pt_core_news_sm')\n",
        "stop_words = spacy.lang.pt.stop_words.STOP_WORDS"
      ]
    },
    {
      "cell_type": "code",
      "execution_count": 14,
      "metadata": {
        "colab": {
          "base_uri": "https://localhost:8080/",
          "height": 36
        },
        "id": "m8eGCSuHnSYM",
        "outputId": "47acd149-244a-4445-d16d-80abb9d041ad"
      },
      "outputs": [
        {
          "data": {
            "text/plain": [
              "'Doria diz não ter preferência por oponente no segundo turno https://t.co/FXBktA1K2J'"
            ]
          },
          "execution_count": 14,
          "metadata": {},
          "output_type": "execute_result"
        }
      ],
      "source": [
        "df['texto'][1]"
      ]
    },
    {
      "cell_type": "code",
      "execution_count": 15,
      "metadata": {
        "colab": {
          "base_uri": "https://localhost:8080/"
        },
        "id": "QqMa61Qwnj4c",
        "outputId": "3d3f5647-c764-46a1-c437-972c448c5fac"
      },
      "outputs": [
        {
          "name": "stdout",
          "output_type": "stream",
          "text": [
            "{'seus', 'fazia', 'não', 'nuns', 'tivemos', 'todo', 'primeira', 'comprida', 'deste', 'toda', 'nas', 'então', 'foste', 'cá', 'esteve', 'usa', 'sois', 'quarta', 'devem', 'mas', 'zero', 'maior', 'muito', 'na', 'todas', 'valor', 'área', 'meu', 'vêm', 'segundo', 'sete', 'lado', 'mais', 'forma', 'adeus', 'umas', 'algumas', 'se', 'cento', 'outros', 'eu', 'vinda', 'ver', 'seu', 'ele', 'dezoito', 'você', 'dizem', 'quem', 'baixo', 'pegar', 'antes', 'sou', 'sempre', 'estar', 'dá', 'partir', 'no', 'certeza', 'debaixo', 'sétima', 'esta', 'tentei', 'sim', 'vão', 'desde', 'aquilo', 'vários', 'quarto', 'estará', 'estiveste', 'boa', 'lugar', 'vezes', 'porquanto', 'quê', 'obrigada', 'vai', 'ponto', 'tua', 'da', 'parece', 'nunca', 'duas', 'foram', 'apoio', 'poder', 'quinze', 'muitos', 'teus', 'mal', 'caminho', 'sétimo', 'tarde', 'três', 'fazemos', 'final', 'cima', 'vossas', 'és', 'às', 'catorze', 'novo', 'pelas', 'além', 'tempo', 'uns', 'conhecido', 'quer', 'desta', 'parte', 'em', 'vossa', 'do', 'esse', 'perto', 'pouca', 'era', 'esses', 'essas', 'terceira', 'breve', 'tendes', 'dos', 'neste', 'posição', 'os', 'enquanto', 'atrás', 'estiveram', 'meses', 'ir', 'povo', 'relação', 'dezasseis', 'favor', 'grupo', 'seria', 'nossas', 'quanto', 'fazeis', 'sua', 'tenho', 'qual', 'tanto', 'sexta', 'oitavo', 'estava', 'contra', 'porém', 'tentaram', 'iniciar', 'quatro', 'exemplo', 'qualquer', 'treze', 'máximo', 'sabe', 'nada', 'após', 'nível', 'fora', 'algo', 'portanto', 'demais', 'onde', 'podia', 'pouco', 'embora', 'quinto', 'é', 'número', 'fez', 'que', 'usar', 'depois', 'sem', 'estas', 'temos', 'apenas', 'fui', 'têm', 'por', 'ambas', 'aquela', 'cinco', 'eventual', 'aquelas', 'próprio', 'faço', 'mês', 'deverá', 'cada', 'pois', 'estive', 'tens', 'tente', 'te', 'pelos', 'todos', 'bastante', 'as', 'aí', 'vós', 'saber', 'cujo', 'quinta', 'vocês', 'suas', 'meus', 'naquela', 'sexto', 'desse', 'geral', 'doze', 'está', 'minha', 'fazer', 'posso', 'tentar', 'daquela', 'apontar', 'pelo', 'fazem', 'numa', 'tal', 'próxima', 'sistema', 'isso', 'porque', 'vindo', 'pela', 'naquele', 'nessa', 'tipo', 'daquele', 'num', 'fará', 'irá', 'vez', 'vossos', 'como', 'com', 'uma', 'estão', 'essa', 'questão', 'mesmo', 'só', 'faz', 'lhe', 'pode', 'local', 'tivestes', 'nesta', 'corrente', 'para', 'ambos', 'momento', 'teu', 'dizer', 'porquê', 'veja', 'pontos', 'alguns', 'diz', 'este', 'sobre', 'são', 'um', 'talvez', 'novos', 'acerca', 'fostes', 'lá', 'tive', 'estado', 'coisa', 'ou', 'através', 'ontem', 'dão', 'apoia', 'vinte', 'tais', 'ainda', 'tudo', 'comprido', 'maioria', 'dezassete', 'quieto', 'puderam', 'último', 'nossa', 'ter', 'diante', 'vais', 'fomos', 'estou', 'vem', 'meio', 'menos', 'inclusive', 'fazes', 'inicio', 'tuas', 'conhecida', 'quero', 'dessa', 'dezanove', 'tão', 'aqui', 'seis', 'minhas', 'quieta', 'onze', 'também', 'me', 'contudo', 'menor', 'foi', 'terceiro', 'nem', 'ora', 'ela', 'dentro', 'logo', 'somente', 'obrigado', 'dois', 'bom', 'aqueles', 'conselho', 'cuja', 'elas', 'poderá', 'segunda', 'dar', 'oitava', 'até', 'somos', 'nós', 'nossos', 'possivelmente', 'tem', 'nove', 'falta', 'próximo', 'ser', 'tanta', 'aos', 'estás', 'ali', 'das', 'pôde', 'longe', 'estivestes', 'põe', 'disso', 'estes', 'certamente', 'novas', 'possível', 'direita', 'des', 'ademais', 'agora', 'for', 'quais', 'podem', 'nesse', 'tu', 'custa', 'assim', 'primeiro', 'deve', 'cedo', 'bem', 'entre', 'querem', 'nosso', 'mil', 'quando', 'vens', 'à', 'outras', 'maiorias', 'tiveram', 'estivemos', 'sob', 'dez', 'tiveste', 'ligado', 'ao', 'de', 'já', 'vosso', 'nos', 'outra', 'fim', 'vos', 'eles', 'grandes', 'oito', 'grande', 'nova', 'sei', 'põem', 'teve', 'números', 'aquele', 'nenhuma', 'isto'}\n"
          ]
        }
      ],
      "source": [
        "print(stop_words)"
      ]
    },
    {
      "cell_type": "code",
      "execution_count": 16,
      "metadata": {
        "colab": {
          "base_uri": "https://localhost:8080/",
          "height": 36
        },
        "id": "n1lFJDhJnoth",
        "outputId": "dec503ba-e51d-4a42-f31a-e6058012bdc4"
      },
      "outputs": [
        {
          "data": {
            "text/plain": [
              "'!\"#$%&\\'()*+,-./:;<=>?@[\\\\]^_`{|}~'"
            ]
          },
          "execution_count": 16,
          "metadata": {},
          "output_type": "execute_result"
        }
      ],
      "source": [
        "string.punctuation"
      ]
    },
    {
      "cell_type": "code",
      "execution_count": 17,
      "metadata": {},
      "outputs": [
        {
          "name": "stdout",
          "output_type": "stream",
          "text": [
            "nielsen castelo damasceno\n"
          ]
        }
      ],
      "source": [
        "texto = \"Nielsen Castelo Damasceno\"\n",
        "print(texto.lower())"
      ]
    },
    {
      "cell_type": "code",
      "execution_count": 31,
      "metadata": {},
      "outputs": [
        {
          "name": "stdout",
          "output_type": "stream",
          "text": [
            "Olá  tudo bem? Veja o perfil de  para mais informações!\n"
          ]
        }
      ],
      "source": [
        "import re\n",
        "\n",
        "texto = \"Olá @usuario123, tudo bem? Veja o perfil de @amigo_xyz para mais informações!\"\n",
        "texto = re.sub(r\"@[A-Za-z0-9$-_@.&+]+\", '', texto)\n",
        "print(texto)\n"
      ]
    },
    {
      "cell_type": "code",
      "execution_count": 29,
      "metadata": {},
      "outputs": [
        {
          "name": "stdout",
          "output_type": "stream",
          "text": [
            "Acesse meu site em  e confira outros links como \n"
          ]
        }
      ],
      "source": [
        "import re\n",
        "\n",
        "texto = \"Acesse meu site em https://exemplo.com e confira outros links como http://teste.org.br\"\n",
        "texto = re.sub(r\"https?://[A-Za-z0-9./]+\", '', texto)\n",
        "print(texto)\n"
      ]
    },
    {
      "cell_type": "code",
      "execution_count": 32,
      "metadata": {},
      "outputs": [
        {
          "name": "stdout",
          "output_type": "stream",
          "text": [
            "Este é um texto com muitos espaços.\n"
          ]
        }
      ],
      "source": [
        "import re\n",
        "\n",
        "texto = \"Este   é   um    texto  com     muitos espaços.\"\n",
        "texto = re.sub(r\" +\", ' ', texto)\n",
        "print(texto)\n"
      ]
    },
    {
      "cell_type": "code",
      "execution_count": 33,
      "metadata": {},
      "outputs": [
        {
          "name": "stdout",
          "output_type": "stream",
          "text": [
            "Olá! Tudo bem? Aqui está um sorriso  e outro sorriso .\n"
          ]
        }
      ],
      "source": [
        "texto = \"Olá! Tudo bem? Aqui está um sorriso :d e outro sorriso :p.\"\n",
        "texto = texto.replace(':d', '')\n",
        "texto = texto.replace(':p', '')\n",
        "print(texto)\n"
      ]
    },
    {
      "cell_type": "code",
      "execution_count": 34,
      "metadata": {},
      "outputs": [
        {
          "name": "stdout",
          "output_type": "stream",
          "text": [
            "O preço é  reais e o desconto é de %.\n"
          ]
        }
      ],
      "source": [
        "import re\n",
        "\n",
        "texto = \"O preço é 123 reais e o desconto é de 50%.\"\n",
        "texto = re.sub(r'\\d+', '', texto)\n",
        "print(texto)\n"
      ]
    },
    {
      "cell_type": "code",
      "execution_count": 35,
      "metadata": {},
      "outputs": [
        {
          "name": "stdout",
          "output_type": "stream",
          "text": [
            "Hello, isso é muito legal!!!\n"
          ]
        }
      ],
      "source": [
        "import re\n",
        "\n",
        "texto = \"Hellooo, isso é muitooo legaaalll!!!\"\n",
        "texto = re.sub(r'(\\w)\\1(\\1+)', r'\\1', texto)\n",
        "print(texto)\n"
      ]
    },
    {
      "cell_type": "code",
      "execution_count": 18,
      "metadata": {
        "id": "rS9ldTSJnsMb"
      },
      "outputs": [],
      "source": [
        "def preprocessamento(texto):\n",
        "  # Letras minúsculas\n",
        "  texto = texto.lower()\n",
        "\n",
        "  # Nome do usuário\n",
        "  texto = re.sub(r\"@[A-Za-z0-9$-_@.&+]+\", ' ', texto)\n",
        "\n",
        "  # URLs\n",
        "  texto = re.sub(r\"https?://[A-Za-z0-9./]+\", ' ', texto)\n",
        "  \n",
        "  #Removendo todos os :d (sorriso) ou sorriso:p\n",
        "  texto = texto.replace(':d','')\n",
        "  texto = texto.replace(':p','')\n",
        "\n",
        "  #Removendo os digitos\n",
        "  texto = re.sub(r'\\d+','',texto)\n",
        "\n",
        "  #Removendo caracteres repetidos 3 ou mais vezes\n",
        "  texto = re.sub(r'(\\w)\\1(\\1+)',r'\\1',texto)\n",
        "  \n",
        "  # Espaços em branco\n",
        "  texto = re.sub(r\" +\", ' ', texto)\n",
        "  \n",
        "  #Removendo os espaços do inicio e final de cada frase\n",
        "  texto = texto.strip()\n",
        "\n",
        "  # Emoticons\n",
        "  lista_emocoes = {':)': 'emocaopositiva',\n",
        "                 ':d': 'emocaopositiva',\n",
        "                 ':(': 'emocaonegativa',\n",
        "                 ':|': 'emoçaoneutra',\n",
        "                 ':/': 'emoçaoneutra'}\n",
        "\n",
        "  for emocao in lista_emocoes:\n",
        "    texto = texto.replace(emocao, lista_emocoes[emocao])\n",
        "\n",
        "  # Lematização\n",
        "  documento = pln(texto)\n",
        "\n",
        "  lista = []\n",
        "  for token in documento:\n",
        "    lista.append(token.lemma_)\n",
        "\n",
        "  # Stop words e pontuações\n",
        "  lista = [palavra for palavra in lista if palavra not in stop_words and palavra not in string.punctuation]\n",
        "  lista = ' '.join([str(elemento) for elemento in lista if not elemento.isdigit()])\n",
        "\n",
        "  return lista"
      ]
    },
    {
      "cell_type": "code",
      "execution_count": 20,
      "metadata": {
        "colab": {
          "base_uri": "https://localhost:8080/",
          "height": 36
        },
        "id": "iIy-2X18n0G8",
        "outputId": "bb7c2b93-c0c5-40af-b25c-e222642a08de"
      },
      "outputs": [
        {
          "data": {
            "text/plain": [
              "'parir emocaonegativa mim precisamente o contrário emocaopositiva vir o chuva e vir o disposição emocaopositiva'"
            ]
          },
          "execution_count": 20,
          "metadata": {},
          "output_type": "execute_result"
        }
      ],
      "source": [
        "texto_teste = '@behin_d_curtain :D Para :( mim, http://ncdd.com.br é precisamente o contrário :) Vem a chuva e vem a boa disposição :)'\n",
        "resultado = preprocessamento(texto_teste)\n",
        "resultado"
      ]
    },
    {
      "cell_type": "code",
      "execution_count": 23,
      "metadata": {},
      "outputs": [],
      "source": [
        "df['texto'] = df['texto'].astype(str)\n",
        "df['texto_preprocess'] = df['texto'].apply(preprocessamento)"
      ]
    },
    {
      "cell_type": "code",
      "execution_count": 26,
      "metadata": {
        "id": "DI1GvLX1uyr4"
      },
      "outputs": [],
      "source": [
        "\n",
        "df.to_parquet('dataset/train_process.parquet')"
      ]
    },
    {
      "cell_type": "code",
      "execution_count": 27,
      "metadata": {},
      "outputs": [
        {
          "data": {
            "text/html": [
              "<div>\n",
              "<style scoped>\n",
              "    .dataframe tbody tr th:only-of-type {\n",
              "        vertical-align: middle;\n",
              "    }\n",
              "\n",
              "    .dataframe tbody tr th {\n",
              "        vertical-align: top;\n",
              "    }\n",
              "\n",
              "    .dataframe thead th {\n",
              "        text-align: right;\n",
              "    }\n",
              "</style>\n",
              "<table border=\"1\" class=\"dataframe\">\n",
              "  <thead>\n",
              "    <tr style=\"text-align: right;\">\n",
              "      <th></th>\n",
              "      <th>texto</th>\n",
              "      <th>sentimento</th>\n",
              "      <th>texto_preprocess</th>\n",
              "    </tr>\n",
              "  </thead>\n",
              "  <tbody>\n",
              "    <tr>\n",
              "      <th>0</th>\n",
              "      <td>Os minions no @BlogFarofeiros. Ainda bem que n...</td>\n",
              "      <td>positivo</td>\n",
              "      <td>o minions o responder emocaopositiva</td>\n",
              "    </tr>\n",
              "    <tr>\n",
              "      <th>1</th>\n",
              "      <td>Doria diz não ter preferência por oponente no ...</td>\n",
              "      <td>neutro</td>\n",
              "      <td>doria preferência oponente o segundar turno</td>\n",
              "    </tr>\n",
              "    <tr>\n",
              "      <th>2</th>\n",
              "      <td>@estervi50977812 @alicesaquino @RiverdaleBrasi...</td>\n",
              "      <td>positivo</td>\n",
              "      <td>e transmitir o   temporada viver sincronia o w...</td>\n",
              "    </tr>\n",
              "    <tr>\n",
              "      <th>3</th>\n",
              "      <td>@ourbookself Oi, Paloma :) Vamos ver o que aco...</td>\n",
              "      <td>positivo</td>\n",
              "      <td>oi palomar emocaopositiva o acontecer o e-mail...</td>\n",
              "    </tr>\n",
              "    <tr>\n",
              "      <th>4</th>\n",
              "      <td>Escolha de Jair Ventura mostra busca do Corint...</td>\n",
              "      <td>neutro</td>\n",
              "      <td>escolher jair venturo mostrar buscar corinthia...</td>\n",
              "    </tr>\n",
              "  </tbody>\n",
              "</table>\n",
              "</div>"
            ],
            "text/plain": [
              "                                               texto sentimento  \\\n",
              "0  Os minions no @BlogFarofeiros. Ainda bem que n...   positivo   \n",
              "1  Doria diz não ter preferência por oponente no ...     neutro   \n",
              "2  @estervi50977812 @alicesaquino @RiverdaleBrasi...   positivo   \n",
              "3  @ourbookself Oi, Paloma :) Vamos ver o que aco...   positivo   \n",
              "4  Escolha de Jair Ventura mostra busca do Corint...     neutro   \n",
              "\n",
              "                                    texto_preprocess  \n",
              "0               o minions o responder emocaopositiva  \n",
              "1        doria preferência oponente o segundar turno  \n",
              "2  e transmitir o   temporada viver sincronia o w...  \n",
              "3  oi palomar emocaopositiva o acontecer o e-mail...  \n",
              "4  escolher jair venturo mostrar buscar corinthia...  "
            ]
          },
          "execution_count": 27,
          "metadata": {},
          "output_type": "execute_result"
        }
      ],
      "source": [
        "df.head()"
      ]
    }
  ],
  "metadata": {
    "accelerator": "TPU",
    "colab": {
      "provenance": []
    },
    "kernelspec": {
      "display_name": "GPU",
      "language": "python",
      "name": "python3"
    },
    "language_info": {
      "codemirror_mode": {
        "name": "ipython",
        "version": 3
      },
      "file_extension": ".py",
      "mimetype": "text/x-python",
      "name": "python",
      "nbconvert_exporter": "python",
      "pygments_lexer": "ipython3",
      "version": "3.8.20"
    }
  },
  "nbformat": 4,
  "nbformat_minor": 0
}
