{
 "cells": [
  {
   "cell_type": "markdown",
   "metadata": {},
   "source": [
    "# Treinamento Sentimento\n"
   ]
  },
  {
   "cell_type": "code",
   "execution_count": 1,
   "metadata": {},
   "outputs": [],
   "source": [
    "import warnings\n",
    "\n",
    "# Ignorar todos os warnings\n",
    "warnings.filterwarnings(\"ignore\")\n",
    "\n",
    "import nltk\n",
    "\n",
    "# Abre o menu interativo do NLTK Downloader\n",
    "# nltk.download()\n",
    "\n",
    "import tensorflow as tf\n",
    "\n",
    "tf.random.set_seed(5)\n",
    "import io\n",
    "from tensorflow.keras.utils import get_custom_objects\n",
    "import numpy as np\n",
    "import pandas as pd\n",
    "import gensim # use 3.8.3\n",
    "from tensorflow.keras.preprocessing.text import Tokenizer\n",
    "from tensorflow.keras.preprocessing.sequence import pad_sequences\n",
    "from tensorflow.keras.utils import plot_model\n",
    "from tensorflow.keras import layers\n",
    "from tensorflow.keras import backend as K\n",
    "from sklearn.model_selection import train_test_split\n",
    "\n",
    "import seaborn as sns\n",
    "from matplotlib import pyplot as plt\n",
    "from tqdm import tqdm\n",
    "from sklearn.preprocessing import OneHotEncoder\n",
    "import pickle\n",
    "from datetime import date \n",
    "import time\n",
    "from sklearn.metrics import confusion_matrix, accuracy_score\n",
    "\n",
    "from sklearn.metrics import precision_score, recall_score, classification_report"
   ]
  },
  {
   "cell_type": "markdown",
   "metadata": {},
   "source": [
    "## Etapa 1: Carregamento da base de dados gerado pelo preprocessamento"
   ]
  },
  {
   "cell_type": "code",
   "execution_count": 2,
   "metadata": {},
   "outputs": [
    {
     "name": "stdout",
     "output_type": "stream",
     "text": [
      "26_12_2024\n"
     ]
    }
   ],
   "source": [
    "data_hora = date.today().strftime(\"%d_%m_%Y\")\n",
    "print(data_hora)\n",
    "# data_hora = '18_08_2024'\n",
    "\n",
    "path_bases = 'dataset/'\n",
    "df_full = pd.read_parquet(f\"{path_bases}train_process.parquet\")\n",
    "\n",
    "base_dados = df_full.sample(frac=1).reset_index(drop=True)"
   ]
  },
  {
   "cell_type": "code",
   "execution_count": 3,
   "metadata": {},
   "outputs": [
    {
     "data": {
      "text/html": [
       "<div>\n",
       "<style scoped>\n",
       "    .dataframe tbody tr th:only-of-type {\n",
       "        vertical-align: middle;\n",
       "    }\n",
       "\n",
       "    .dataframe tbody tr th {\n",
       "        vertical-align: top;\n",
       "    }\n",
       "\n",
       "    .dataframe thead th {\n",
       "        text-align: right;\n",
       "    }\n",
       "</style>\n",
       "<table border=\"1\" class=\"dataframe\">\n",
       "  <thead>\n",
       "    <tr style=\"text-align: right;\">\n",
       "      <th></th>\n",
       "      <th>texto</th>\n",
       "      <th>sentimento</th>\n",
       "      <th>texto_preprocess</th>\n",
       "    </tr>\n",
       "  </thead>\n",
       "  <tbody>\n",
       "    <tr>\n",
       "      <th>0</th>\n",
       "      <td>“Todo mundo quieto até a eleição”, diz Bolsona...</td>\n",
       "      <td>neutro</td>\n",
       "      <td>“ mundo quietar o eleição ” bolsonaro o equipa...</td>\n",
       "    </tr>\n",
       "    <tr>\n",
       "      <th>1</th>\n",
       "      <td>Aguardando a chuva :)</td>\n",
       "      <td>positivo</td>\n",
       "      <td>aguardar o chuva emocaopositiva</td>\n",
       "    </tr>\n",
       "    <tr>\n",
       "      <th>2</th>\n",
       "      <td>&amp;gt;@EstadaoLink Hacker aproveita falha da App...</td>\n",
       "      <td>neutro</td>\n",
       "      <td>gt hacker aproveitar falho apple e comprar   i...</td>\n",
       "    </tr>\n",
       "    <tr>\n",
       "      <th>3</th>\n",
       "      <td>@martinha0503 @_carolinacosta6 Eu amo-vos as d...</td>\n",
       "      <td>positivo</td>\n",
       "      <td>amo-vos o emocaopositiva</td>\n",
       "    </tr>\n",
       "    <tr>\n",
       "      <th>4</th>\n",
       "      <td>Soh queria receber um boa noite fofinho p dorm...</td>\n",
       "      <td>negativo</td>\n",
       "      <td>soh querer receber noite fofo p dormir emocaon...</td>\n",
       "    </tr>\n",
       "  </tbody>\n",
       "</table>\n",
       "</div>"
      ],
      "text/plain": [
       "                                               texto sentimento  \\\n",
       "0  “Todo mundo quieto até a eleição”, diz Bolsona...     neutro   \n",
       "1                              Aguardando a chuva :)   positivo   \n",
       "2  &gt;@EstadaoLink Hacker aproveita falha da App...     neutro   \n",
       "3  @martinha0503 @_carolinacosta6 Eu amo-vos as d...   positivo   \n",
       "4  Soh queria receber um boa noite fofinho p dorm...   negativo   \n",
       "\n",
       "                                    texto_preprocess  \n",
       "0  “ mundo quietar o eleição ” bolsonaro o equipa...  \n",
       "1                    aguardar o chuva emocaopositiva  \n",
       "2  gt hacker aproveitar falho apple e comprar   i...  \n",
       "3                           amo-vos o emocaopositiva  \n",
       "4  soh querer receber noite fofo p dormir emocaon...  "
      ]
     },
     "execution_count": 3,
     "metadata": {},
     "output_type": "execute_result"
    }
   ],
   "source": [
    "base_dados.head()"
   ]
  },
  {
   "cell_type": "code",
   "execution_count": 4,
   "metadata": {},
   "outputs": [
    {
     "data": {
      "text/plain": [
       "sentimento\n",
       "negativo    32331\n",
       "neutro      31556\n",
       "positivo    32634\n",
       "Name: sentimento, dtype: int64"
      ]
     },
     "execution_count": 4,
     "metadata": {},
     "output_type": "execute_result"
    }
   ],
   "source": [
    "categoria = base_dados.groupby(['sentimento']).sentimento.count()\n",
    "categoria"
   ]
  },
  {
   "cell_type": "markdown",
   "metadata": {},
   "source": [
    "## Pre processamento"
   ]
  },
  {
   "cell_type": "code",
   "execution_count": 5,
   "metadata": {},
   "outputs": [],
   "source": [
    "base_dados['texto_preprocess'] = base_dados['texto_preprocess'].astype(str)\n",
    "base_dados['texto_preprocess'] = base_dados.texto_preprocess.replace('',np.nan,regex = True)"
   ]
  },
  {
   "cell_type": "markdown",
   "metadata": {},
   "source": [
    "## Criar a lista de sentenças"
   ]
  },
  {
   "cell_type": "code",
   "execution_count": 6,
   "metadata": {},
   "outputs": [
    {
     "name": "stderr",
     "output_type": "stream",
     "text": [
      "100%|██████████| 96521/96521 [00:09<00:00, 10262.67it/s]\n"
     ]
    }
   ],
   "source": [
    "stopwords = nltk.corpus.stopwords.words(\"portuguese\")\n",
    "\n",
    "sent_lst = []\n",
    "\n",
    "for doc in tqdm(base_dados['texto_preprocess'].values):\n",
    "    sentences = nltk.tokenize.sent_tokenize(doc, language =\"portuguese\")\n",
    "\n",
    "    for sent in sentences:\n",
    "        words_lst = [w.lower() for w in nltk.tokenize.word_tokenize(sent, language=\"portuguese\") \\\n",
    "                        if w.isalnum() and w not in stopwords]\n",
    "        sent_lst.append(words_lst)"
   ]
  },
  {
   "cell_type": "markdown",
   "metadata": {},
   "source": [
    "## Criando o Word Embeddings usando o FastText"
   ]
  },
  {
   "cell_type": "code",
   "execution_count": 9,
   "metadata": {},
   "outputs": [
    {
     "name": "stdout",
     "output_type": "stream",
     "text": [
      "[ 8.5976120e-04  2.5745120e-03 -3.6583579e-04 -1.8020771e-03\n",
      "  9.7642449e-04 -1.0324823e-03 -4.3620943e-04  3.1434423e-03\n",
      " -6.3821540e-04 -4.5099034e-04  4.2857966e-04 -8.8973809e-04\n",
      " -2.9042840e-03  1.1222657e-03  9.5399114e-04 -9.0067455e-04\n",
      "  2.0341922e-03  7.5925363e-04  2.8954088e-03  5.6714780e-04\n",
      " -2.6573875e-04  4.9230563e-03 -2.3991456e-03 -2.8371909e-03\n",
      "  3.4358653e-03  2.0234610e-03  2.2880631e-03 -1.4855477e-03\n",
      " -5.2846459e-05 -1.7933476e-04 -8.4771361e-04 -1.3085201e-03\n",
      "  4.5429971e-03  6.1689108e-04  1.1746975e-03 -1.4843912e-03\n",
      "  3.0445433e-03  9.8392600e-04 -3.3049306e-04  2.7927859e-03\n",
      "  8.2579139e-04 -6.4389122e-04 -8.1106462e-04  3.9706202e-04\n",
      " -6.0533412e-04 -3.6340163e-04 -3.2218630e-04  1.6595270e-03\n",
      "  1.5759621e-03 -4.5236517e-03 -2.8517231e-04  2.2719859e-03\n",
      "  4.1194886e-04 -1.6126278e-04  1.0128760e-03 -2.9825044e-03\n",
      " -2.2577993e-03 -3.5923830e-04  3.4877271e-03  8.7907776e-04\n",
      " -2.1690472e-03  2.1922283e-03  5.8171997e-04 -1.2957922e-03\n",
      " -7.0504431e-04 -7.6401612e-04 -1.0276913e-03  2.2474931e-05\n",
      "  1.6962510e-03  9.4367232e-04 -2.8236012e-04 -1.2843423e-03\n",
      " -3.1195411e-03 -1.4371308e-03 -1.9847748e-03  2.5162352e-03\n",
      " -7.9204212e-04 -2.1800823e-03  3.1540752e-04 -3.8637652e-05\n",
      " -1.8270548e-04 -4.2064817e-04 -1.8562287e-03 -1.3778075e-03\n",
      "  2.7866950e-03 -3.1755513e-03 -1.8668815e-03  2.3704881e-03\n",
      " -1.3335261e-03  1.9915968e-03 -1.2178367e-03 -2.6165035e-03\n",
      "  1.6467645e-03 -2.5269962e-03  1.1812408e-03  7.9347310e-04\n",
      "  1.5691477e-03  1.6003418e-04  7.9043716e-04  6.3331693e-04]\n"
     ]
    }
   ],
   "source": [
    "from gensim.models import FastText\n",
    "\n",
    "# Dados de exemplo (lista de listas de palavras)\n",
    "sentences = [[\"gato\", \"branco\"], [\"cachorro\", \"preto\"], [\"gato\", \"preto\"]]\n",
    "\n",
    "# Treinando o modelo FastText\n",
    "model = FastText(sentences, size=100, window=5, min_count=1, sg=1)\n",
    "\n",
    "# Obtendo o vetor de uma palavra\n",
    "print(model.wv['gato'])\n"
   ]
  },
  {
   "cell_type": "code",
   "execution_count": 10,
   "metadata": {},
   "outputs": [
    {
     "name": "stdout",
     "output_type": "stream",
     "text": [
      "modelos/26_12_2024/fasttext/fasttext_model.txt\n"
     ]
    }
   ],
   "source": [
    "path_modelos = 'modelos'\n",
    "\n",
    "filename = f'{path_modelos}/{data_hora}/fasttext/fasttext_model.txt'\n",
    "print(filename)"
   ]
  },
  {
   "cell_type": "code",
   "execution_count": 11,
   "metadata": {},
   "outputs": [],
   "source": [
    "embed_dim = 100\n",
    "embed_size = 100\n",
    "max_features = 3000\n",
    "maxlen = 100"
   ]
  },
  {
   "cell_type": "code",
   "execution_count": 12,
   "metadata": {},
   "outputs": [
    {
     "name": "stdout",
     "output_type": "stream",
     "text": [
      "Tempo para embedding:  2.0267305811246237\n"
     ]
    }
   ],
   "source": [
    "inicio = time.time()\n",
    "\n",
    "fasttext_model = gensim.models.FastText(size=embed_dim, window=1)\n",
    "fasttext_model.build_vocab(sentences=sent_lst)\n",
    "fasttext_model.train(sentences =sent_lst, total_examples=len(sent_lst), epochs=100)\n",
    "fim = time.time()\n",
    "print('Tempo para embedding: ',(fim - inicio)/60)"
   ]
  },
  {
   "cell_type": "code",
   "execution_count": 13,
   "metadata": {},
   "outputs": [],
   "source": [
    "fasttext_model.save(filename)"
   ]
  },
  {
   "cell_type": "markdown",
   "metadata": {},
   "source": [
    "## Tokenização"
   ]
  },
  {
   "cell_type": "code",
   "execution_count": 14,
   "metadata": {},
   "outputs": [],
   "source": [
    "tokenizer = Tokenizer(num_words=max_features)\n",
    "tokenizer.fit_on_texts(base_dados['texto_preprocess'].values)"
   ]
  },
  {
   "cell_type": "code",
   "execution_count": 15,
   "metadata": {},
   "outputs": [],
   "source": [
    "onehot_encoder = OneHotEncoder(sparse=False)\n",
    "y = base_dados['sentimento'].values\n",
    "y = y.reshape(-1,1)\n",
    "y_encoder = onehot_encoder.fit_transform(y)\n",
    "\n",
    "\n",
    "tokenx = tokenizer.texts_to_sequences(base_dados['texto_preprocess'])"
   ]
  },
  {
   "cell_type": "markdown",
   "metadata": {},
   "source": [
    "## Padding"
   ]
  },
  {
   "cell_type": "code",
   "execution_count": 16,
   "metadata": {},
   "outputs": [],
   "source": [
    "pad_x = pad_sequences(tokenx, maxlen=maxlen)"
   ]
  },
  {
   "cell_type": "markdown",
   "metadata": {},
   "source": [
    "## Separar treinamento e teste para avaliação"
   ]
  },
  {
   "cell_type": "code",
   "execution_count": 17,
   "metadata": {},
   "outputs": [],
   "source": [
    "train_inputs, test_inputs, train_labels, test_labels = train_test_split(pad_x,\n",
    "                                                                        y_encoder,\n",
    "                                                                        test_size=0.2,\n",
    "                                                                        stratify = y_encoder)"
   ]
  },
  {
   "cell_type": "markdown",
   "metadata": {},
   "source": [
    "## Ler o modelo embedding criado"
   ]
  },
  {
   "cell_type": "code",
   "execution_count": 18,
   "metadata": {},
   "outputs": [
    {
     "name": "stderr",
     "output_type": "stream",
     "text": [
      "100%|██████████| 45837/45837 [00:01<00:00, 37329.33it/s] \n"
     ]
    }
   ],
   "source": [
    "embedding_index = fasttext_model.wv\n",
    "\n",
    "embedding_matrix = np.zeros(( len(tokenizer.word_index), embed_size))\n",
    "\n",
    "for word, i in tqdm(tokenizer.word_index.items()):\n",
    "    try:\n",
    "        embedding_vector = embedding_index[word]\n",
    "        if embedding_vector is not None:\n",
    "            embedding_matrix[i] = embedding_vector\n",
    "    except Exception as e:\n",
    "        continue"
   ]
  },
  {
   "cell_type": "code",
   "execution_count": 19,
   "metadata": {},
   "outputs": [
    {
     "data": {
      "text/plain": [
       "(45837, 100)"
      ]
     },
     "execution_count": 19,
     "metadata": {},
     "output_type": "execute_result"
    }
   ],
   "source": [
    "embedding_matrix.shape"
   ]
  },
  {
   "cell_type": "code",
   "execution_count": 20,
   "metadata": {},
   "outputs": [
    {
     "name": "stdout",
     "output_type": "stream",
     "text": [
      "Tamanho do vocaulário 45837\n",
      "Número de classes 3\n"
     ]
    }
   ],
   "source": [
    "vocabulary_size = len(tokenizer.word_index)\n",
    "categoria = base_dados.groupby(['sentimento']).sentimento.count()\n",
    "num_classes = len(categoria)\n",
    "\n",
    "print('Tamanho do vocaulário', vocabulary_size)\n",
    "print('Número de classes', num_classes)"
   ]
  },
  {
   "cell_type": "markdown",
   "metadata": {},
   "source": [
    "## Criando uma função de ativação"
   ]
  },
  {
   "cell_type": "code",
   "execution_count": 21,
   "metadata": {},
   "outputs": [],
   "source": [
    "class GeluActivation(layers.Activation):\n",
    "    def __init__(self, activation, **kwargs):\n",
    "        super(GeluActivation, self).__init__(activation, **kwargs)\n",
    "        self.__name__ = 'gelu'\n",
    "\n",
    "    def get_config(self):\n",
    "        config = super(GeluActivation, self).get_config()\n",
    "        return config\n",
    "\n",
    "        \n",
    "def gelu(x):\n",
    "    return 0.5 * x * (1 + tf.tanh(tf.sqrt(2/np.pi) * (x + 0.044715 * tf.pow(x,3)) ))\n",
    "\n",
    "get_custom_objects().update({'gelu' : GeluActivation(gelu)})"
   ]
  },
  {
   "cell_type": "markdown",
   "metadata": {},
   "source": [
    "## Criando a camada de atenção"
   ]
  },
  {
   "cell_type": "code",
   "execution_count": 73,
   "metadata": {},
   "outputs": [],
   "source": [
    "# class Attention(layers.Layer):\n",
    "#     def __init__(self, attention_dim=50, **kwargs):\n",
    "#         self.init = tf.keras.initializers.get('normal')\n",
    "#         self.attention_dim = attention_dim\n",
    "        \n",
    "#         super(Attention, self).__init__(**kwargs)\n",
    "    \n",
    "#     def build(self, input_shape):\n",
    "#         self.W = K.variable(self.init((input_shape[-1],1)))\n",
    "#         self.b = K.variable(self.init((self.attention_dim, )))\n",
    "#         self.u = K.variable(self.init((self.attention_dim, 1)))\n",
    "        \n",
    "#         super(Attention, self).build(input_shape)\n",
    "#     def call(self, x):\n",
    "#         ui = K.tanh(K.bias_add(K.dot(x,self.W), self.b))\n",
    "#         dot = K.squeeze(K.dot(ui, self.u), -1)\n",
    "        \n",
    "#         attention_weights = tf.nn.softmax(dot, axis=1)\n",
    "#         attention_weights = K.expand_dims(attention_weights)\n",
    "        \n",
    "#         context_vector = attention_weights * x\n",
    "#         context_vector = K.sum(context_vector, axis=1)\n",
    "        \n",
    "#         return context_vector\n",
    "        \n",
    "    \n",
    "#     def get_config(self):\n",
    "#         return {'attention_dim' : self.attention_dim}\n",
    "\n",
    "class Attention(tf.keras.layers.Layer):\n",
    "    def __init__(self, units, **kwargs):\n",
    "        super(Attention, self).__init__(**kwargs)\n",
    "        self.units = units\n",
    "\n",
    "    def build(self, input_shape):\n",
    "        self.W = self.add_weight(\n",
    "            shape=(input_shape[-1], self.units),\n",
    "            initializer=\"random_normal\",\n",
    "            trainable=True,\n",
    "            name=\"attention_weight\"\n",
    "        )\n",
    "        self.b = self.add_weight(\n",
    "            shape=(self.units,),\n",
    "            initializer=\"zeros\",\n",
    "            trainable=True,\n",
    "            name=\"attention_bias\"\n",
    "        )\n",
    "        self.u = self.add_weight(\n",
    "            shape=(self.units, 1),\n",
    "            initializer=\"random_normal\",\n",
    "            trainable=True,\n",
    "            name=\"attention_score\"\n",
    "        )\n",
    "\n",
    "    def call(self, inputs):\n",
    "        ui = tf.tanh(tf.matmul(inputs, self.W) + self.b)\n",
    "        scores = tf.nn.softmax(tf.squeeze(tf.matmul(ui, self.u), axis=-1), axis=1)\n",
    "        context = tf.reduce_sum(inputs * tf.expand_dims(scores, -1), axis=1)\n",
    "        return context\n",
    "\n",
    "    def get_config(self):\n",
    "        config = super(Attention, self).get_config()\n",
    "        config.update({\n",
    "            \"units\": self.units\n",
    "        })\n",
    "        return config\n",
    "\n"
   ]
  },
  {
   "cell_type": "markdown",
   "metadata": {},
   "source": [
    "## Montando a arquiteturra"
   ]
  },
  {
   "cell_type": "code",
   "execution_count": 75,
   "metadata": {},
   "outputs": [],
   "source": [
    "inp = layers.Input(shape=(maxlen,))\n",
    "\n",
    "x = layers.Embedding(\n",
    "    vocabulary_size, \n",
    "    embed_size,\n",
    "    weights=[embedding_matrix],\n",
    "    input_length=maxlen,\n",
    "    trainable=True, name=\"embedding_layer\"\n",
    "    )(inp)\n",
    "\n",
    "dropout = layers.Dropout(0.1)(x)\n",
    "\n",
    "x = layers.Bidirectional(layers.LSTM(40,\n",
    "                                     kernel_regularizer=tf.keras.regularizers.l2(0.001),\n",
    "                                     recurrent_regularizer=tf.keras.regularizers.l2(0.001),\n",
    "                                     return_sequences=True\n",
    "                                     ))(dropout)\n",
    "y = layers.Bidirectional(layers.GRU(40,\n",
    "                                    kernel_regularizer=tf.keras.regularizers.l2(0.001),\n",
    "                                    recurrent_regularizer=tf.keras.regularizers.l2(0.001),\n",
    "                                    return_sequences=True\n",
    "                                    ))(dropout)\n",
    "\n",
    "atten_l = Attention(50, name=\"Attention_LSTM\") (x)\n",
    "atten_2 = Attention(50, name=\"Attention_GRU\") (y)\n",
    "\n",
    "x = layers.concatenate([atten_l,atten_2])\n",
    "\n",
    "\n",
    "\n",
    "x = layers.Dense(16, activation=gelu,\n",
    "                 kernel_regularizer=tf.keras.regularizers.l2(0.001)\n",
    "                 )(x)\n",
    "x = layers.Activation('gelu')(x)\n",
    "x = layers.Dropout(0.2)(x)\n",
    "\n",
    "x = layers.Flatten()(x)\n",
    "\n",
    "outp = layers.Dense(num_classes, activation='softmax')(x)\n",
    "\n",
    "model = tf.keras.models.Model(inputs=inp, outputs=outp)\n",
    "\n",
    "model.compile(optimizer='adam', loss='categorical_crossentropy', metrics=['categorical_accuracy'])"
   ]
  },
  {
   "cell_type": "markdown",
   "metadata": {},
   "source": [
    "## Mostrando Arquitetura"
   ]
  },
  {
   "cell_type": "code",
   "execution_count": 76,
   "metadata": {},
   "outputs": [
    {
     "name": "stdout",
     "output_type": "stream",
     "text": [
      "Model: \"model_6\"\n",
      "__________________________________________________________________________________________________\n",
      " Layer (type)                   Output Shape         Param #     Connected to                     \n",
      "==================================================================================================\n",
      " input_7 (InputLayer)           [(None, 100)]        0           []                               \n",
      "                                                                                                  \n",
      " embedding_layer (Embedding)    (None, 100, 100)     4583700     ['input_7[0][0]']                \n",
      "                                                                                                  \n",
      " dropout_12 (Dropout)           (None, 100, 100)     0           ['embedding_layer[0][0]']        \n",
      "                                                                                                  \n",
      " bidirectional_12 (Bidirectiona  (None, 100, 80)     45120       ['dropout_12[0][0]']             \n",
      " l)                                                                                               \n",
      "                                                                                                  \n",
      " bidirectional_13 (Bidirectiona  (None, 100, 80)     34080       ['dropout_12[0][0]']             \n",
      " l)                                                                                               \n",
      "                                                                                                  \n",
      " Attention_LSTM (Attention)     (None, 80)           4100        ['bidirectional_12[0][0]']       \n",
      "                                                                                                  \n",
      " Attention_GRU (Attention)      (None, 80)           4100        ['bidirectional_13[0][0]']       \n",
      "                                                                                                  \n",
      " concatenate_6 (Concatenate)    (None, 160)          0           ['Attention_LSTM[0][0]',         \n",
      "                                                                  'Attention_GRU[0][0]']          \n",
      "                                                                                                  \n",
      " dense_12 (Dense)               (None, 16)           2576        ['concatenate_6[0][0]']          \n",
      "                                                                                                  \n",
      " activation_6 (Activation)      (None, 16)           0           ['dense_12[0][0]']               \n",
      "                                                                                                  \n",
      " dropout_13 (Dropout)           (None, 16)           0           ['activation_6[0][0]']           \n",
      "                                                                                                  \n",
      " flatten_6 (Flatten)            (None, 16)           0           ['dropout_13[0][0]']             \n",
      "                                                                                                  \n",
      " dense_13 (Dense)               (None, 3)            51          ['flatten_6[0][0]']              \n",
      "                                                                                                  \n",
      "==================================================================================================\n",
      "Total params: 4,673,727\n",
      "Trainable params: 4,673,727\n",
      "Non-trainable params: 0\n",
      "__________________________________________________________________________________________________\n"
     ]
    }
   ],
   "source": [
    "model.summary()"
   ]
  },
  {
   "cell_type": "code",
   "execution_count": null,
   "metadata": {},
   "outputs": [],
   "source": [
    "# plot_model(model, to_file=f'modelos/model_plot+{data_hora}.png', show_shapes=True, show_layer_names=True)"
   ]
  },
  {
   "cell_type": "markdown",
   "metadata": {},
   "source": [
    "## Checkpoint do Modelo"
   ]
  },
  {
   "cell_type": "code",
   "execution_count": 77,
   "metadata": {},
   "outputs": [
    {
     "name": "stdout",
     "output_type": "stream",
     "text": [
      "modelos/26_12_2024/weights/checkpoint.ckpt\n"
     ]
    }
   ],
   "source": [
    "filepath = f\"{path_modelos}/{data_hora}/weights/checkpoint.ckpt\"\n",
    "print(filepath)\n",
    "checkpoint = tf.keras.callbacks.ModelCheckpoint(filepath, monitor=\"val_categorical_accuracy\",\n",
    "                                                verbose=1,\n",
    "                                                save_best_only=True,\n",
    "                                                save_weights_only=True,\n",
    "                                                mode='max')\n",
    "\n",
    "reduce_lr_on_plateau = tf.keras.callbacks.ReduceLROnPlateau(monitor=\"val_categorical_accuracy\",\n",
    "                                                              factor=0.1, # new_lr = lr * 0.1\n",
    "                                                              verbose=1,\n",
    "                                                              mode = 'max',\n",
    "                                                              min_lr = 0.001,\n",
    "                                                              patience=4\n",
    "                                                              )\n",
    "\n",
    "early_stopping = tf.keras.callbacks.EarlyStopping(monitor='val_categorical_accuracy', \n",
    "                                                  patience=20,\n",
    "                                                  verbose=1,\n",
    "                                                  mode='max')"
   ]
  },
  {
   "cell_type": "code",
   "execution_count": 78,
   "metadata": {},
   "outputs": [
    {
     "data": {
      "text/plain": [
       "<tensorflow.python.checkpoint.checkpoint.CheckpointLoadStatus at 0x1f3fa6c74f0>"
      ]
     },
     "execution_count": 78,
     "metadata": {},
     "output_type": "execute_result"
    }
   ],
   "source": [
    "# Carregue os pesos treinados\n",
    "model.load_weights(filepath)"
   ]
  },
  {
   "cell_type": "markdown",
   "metadata": {},
   "source": [
    "## Treinando arquitetura"
   ]
  },
  {
   "cell_type": "code",
   "execution_count": 60,
   "metadata": {},
   "outputs": [
    {
     "name": "stdout",
     "output_type": "stream",
     "text": [
      "Epoch 1/100\n",
      "302/303 [============================>.] - ETA: 0s - loss: 0.5721 - categorical_accuracy: 0.8448\n",
      "Epoch 1: val_categorical_accuracy improved from -inf to 0.96664, saving model to modelos/26_12_2024/weights\\checkpoint.ckpt\n",
      "303/303 [==============================] - 21s 51ms/step - loss: 0.5712 - categorical_accuracy: 0.8451 - val_loss: 0.2036 - val_categorical_accuracy: 0.9666 - lr: 0.0010\n",
      "Epoch 2/100\n",
      "302/303 [============================>.] - ETA: 0s - loss: 0.1821 - categorical_accuracy: 0.9672\n",
      "Epoch 2: val_categorical_accuracy improved from 0.96664 to 0.97110, saving model to modelos/26_12_2024/weights\\checkpoint.ckpt\n",
      "303/303 [==============================] - 14s 46ms/step - loss: 0.1820 - categorical_accuracy: 0.9672 - val_loss: 0.1477 - val_categorical_accuracy: 0.9711 - lr: 0.0010\n",
      "Epoch 3/100\n",
      "302/303 [============================>.] - ETA: 0s - loss: 0.1403 - categorical_accuracy: 0.9718\n",
      "Epoch 3: val_categorical_accuracy improved from 0.97110 to 0.97291, saving model to modelos/26_12_2024/weights\\checkpoint.ckpt\n",
      "303/303 [==============================] - 13s 44ms/step - loss: 0.1403 - categorical_accuracy: 0.9718 - val_loss: 0.1245 - val_categorical_accuracy: 0.9729 - lr: 0.0010\n",
      "Epoch 4/100\n",
      "302/303 [============================>.] - ETA: 0s - loss: 0.1221 - categorical_accuracy: 0.9728\n",
      "Epoch 4: val_categorical_accuracy improved from 0.97291 to 0.97389, saving model to modelos/26_12_2024/weights\\checkpoint.ckpt\n",
      "303/303 [==============================] - 14s 45ms/step - loss: 0.1221 - categorical_accuracy: 0.9728 - val_loss: 0.1136 - val_categorical_accuracy: 0.9739 - lr: 0.0010\n",
      "Epoch 5/100\n",
      "303/303 [==============================] - ETA: 0s - loss: 0.1081 - categorical_accuracy: 0.9752\n",
      "Epoch 5: val_categorical_accuracy improved from 0.97389 to 0.97467, saving model to modelos/26_12_2024/weights\\checkpoint.ckpt\n",
      "303/303 [==============================] - 14s 47ms/step - loss: 0.1081 - categorical_accuracy: 0.9752 - val_loss: 0.1059 - val_categorical_accuracy: 0.9747 - lr: 0.0010\n",
      "Epoch 6/100\n",
      "303/303 [==============================] - ETA: 0s - loss: 0.1009 - categorical_accuracy: 0.9758\n",
      "Epoch 6: val_categorical_accuracy did not improve from 0.97467\n",
      "303/303 [==============================] - 13s 42ms/step - loss: 0.1009 - categorical_accuracy: 0.9758 - val_loss: 0.1028 - val_categorical_accuracy: 0.9742 - lr: 0.0010\n",
      "Epoch 7/100\n",
      "303/303 [==============================] - ETA: 0s - loss: 0.0934 - categorical_accuracy: 0.9769\n",
      "Epoch 7: val_categorical_accuracy did not improve from 0.97467\n",
      "303/303 [==============================] - 13s 42ms/step - loss: 0.0934 - categorical_accuracy: 0.9769 - val_loss: 0.1007 - val_categorical_accuracy: 0.9742 - lr: 0.0010\n",
      "Epoch 8/100\n",
      "302/303 [============================>.] - ETA: 0s - loss: 0.0869 - categorical_accuracy: 0.9782\n",
      "Epoch 8: val_categorical_accuracy did not improve from 0.97467\n",
      "303/303 [==============================] - 13s 42ms/step - loss: 0.0869 - categorical_accuracy: 0.9782 - val_loss: 0.0995 - val_categorical_accuracy: 0.9738 - lr: 0.0010\n",
      "Epoch 9/100\n",
      "302/303 [============================>.] - ETA: 0s - loss: 0.0839 - categorical_accuracy: 0.9785\n",
      "Epoch 9: val_categorical_accuracy did not improve from 0.97467\n",
      "303/303 [==============================] - 13s 42ms/step - loss: 0.0840 - categorical_accuracy: 0.9785 - val_loss: 0.0961 - val_categorical_accuracy: 0.9747 - lr: 0.0010\n",
      "Epoch 10/100\n",
      "303/303 [==============================] - ETA: 0s - loss: 0.0791 - categorical_accuracy: 0.9798\n",
      "Epoch 10: val_categorical_accuracy did not improve from 0.97467\n",
      "303/303 [==============================] - 12s 40ms/step - loss: 0.0791 - categorical_accuracy: 0.9798 - val_loss: 0.0966 - val_categorical_accuracy: 0.9736 - lr: 0.0010\n",
      "Epoch 11/100\n",
      "303/303 [==============================] - ETA: 0s - loss: 0.0757 - categorical_accuracy: 0.9802\n",
      "Epoch 11: val_categorical_accuracy improved from 0.97467 to 0.97488, saving model to modelos/26_12_2024/weights\\checkpoint.ckpt\n",
      "303/303 [==============================] - 14s 45ms/step - loss: 0.0757 - categorical_accuracy: 0.9802 - val_loss: 0.0927 - val_categorical_accuracy: 0.9749 - lr: 0.0010\n",
      "Epoch 12/100\n",
      "303/303 [==============================] - ETA: 0s - loss: 0.0734 - categorical_accuracy: 0.9812\n",
      "Epoch 12: val_categorical_accuracy did not improve from 0.97488\n",
      "303/303 [==============================] - 13s 42ms/step - loss: 0.0734 - categorical_accuracy: 0.9812 - val_loss: 0.0975 - val_categorical_accuracy: 0.9738 - lr: 0.0010\n",
      "Epoch 13/100\n",
      "303/303 [==============================] - ETA: 0s - loss: 0.0708 - categorical_accuracy: 0.9814\n",
      "Epoch 13: val_categorical_accuracy improved from 0.97488 to 0.97555, saving model to modelos/26_12_2024/weights\\checkpoint.ckpt\n",
      "303/303 [==============================] - 14s 46ms/step - loss: 0.0708 - categorical_accuracy: 0.9814 - val_loss: 0.0896 - val_categorical_accuracy: 0.9756 - lr: 0.0010\n",
      "Epoch 14/100\n",
      "303/303 [==============================] - ETA: 0s - loss: 0.0684 - categorical_accuracy: 0.9821\n",
      "Epoch 14: val_categorical_accuracy did not improve from 0.97555\n",
      "303/303 [==============================] - 13s 42ms/step - loss: 0.0684 - categorical_accuracy: 0.9821 - val_loss: 0.0942 - val_categorical_accuracy: 0.9726 - lr: 0.0010\n",
      "Epoch 15/100\n",
      "303/303 [==============================] - ETA: 0s - loss: 0.0669 - categorical_accuracy: 0.9825\n",
      "Epoch 15: val_categorical_accuracy did not improve from 0.97555\n",
      "303/303 [==============================] - 13s 42ms/step - loss: 0.0669 - categorical_accuracy: 0.9825 - val_loss: 0.0999 - val_categorical_accuracy: 0.9739 - lr: 0.0010\n",
      "Epoch 16/100\n",
      "303/303 [==============================] - ETA: 0s - loss: 0.0658 - categorical_accuracy: 0.9825\n",
      "Epoch 16: val_categorical_accuracy did not improve from 0.97555\n",
      "303/303 [==============================] - 12s 41ms/step - loss: 0.0658 - categorical_accuracy: 0.9825 - val_loss: 0.0987 - val_categorical_accuracy: 0.9746 - lr: 0.0010\n",
      "Epoch 17/100\n",
      "303/303 [==============================] - ETA: 0s - loss: 0.0629 - categorical_accuracy: 0.9835\n",
      "Epoch 17: val_categorical_accuracy did not improve from 0.97555\n",
      "303/303 [==============================] - 12s 41ms/step - loss: 0.0629 - categorical_accuracy: 0.9835 - val_loss: 0.0972 - val_categorical_accuracy: 0.9750 - lr: 0.0010\n",
      "Epoch 18/100\n",
      "303/303 [==============================] - ETA: 0s - loss: 0.0619 - categorical_accuracy: 0.9835\n",
      "Epoch 18: val_categorical_accuracy did not improve from 0.97555\n",
      "303/303 [==============================] - 12s 41ms/step - loss: 0.0619 - categorical_accuracy: 0.9835 - val_loss: 0.0971 - val_categorical_accuracy: 0.9743 - lr: 0.0010\n",
      "Epoch 19/100\n",
      "303/303 [==============================] - ETA: 0s - loss: 0.0601 - categorical_accuracy: 0.9841\n",
      "Epoch 19: val_categorical_accuracy did not improve from 0.97555\n",
      "303/303 [==============================] - 12s 41ms/step - loss: 0.0601 - categorical_accuracy: 0.9841 - val_loss: 0.0960 - val_categorical_accuracy: 0.9740 - lr: 0.0010\n",
      "Epoch 20/100\n",
      "303/303 [==============================] - ETA: 0s - loss: 0.0590 - categorical_accuracy: 0.9842\n",
      "Epoch 20: val_categorical_accuracy did not improve from 0.97555\n",
      "303/303 [==============================] - 13s 42ms/step - loss: 0.0590 - categorical_accuracy: 0.9842 - val_loss: 0.1008 - val_categorical_accuracy: 0.9730 - lr: 0.0010\n",
      "Epoch 21/100\n",
      "302/303 [============================>.] - ETA: 0s - loss: 0.0579 - categorical_accuracy: 0.9848\n",
      "Epoch 21: val_categorical_accuracy did not improve from 0.97555\n",
      "303/303 [==============================] - 13s 42ms/step - loss: 0.0579 - categorical_accuracy: 0.9848 - val_loss: 0.0979 - val_categorical_accuracy: 0.9747 - lr: 0.0010\n",
      "Epoch 22/100\n",
      "303/303 [==============================] - ETA: 0s - loss: 0.0560 - categorical_accuracy: 0.9850\n",
      "Epoch 22: val_categorical_accuracy did not improve from 0.97555\n",
      "303/303 [==============================] - 13s 42ms/step - loss: 0.0560 - categorical_accuracy: 0.9850 - val_loss: 0.0990 - val_categorical_accuracy: 0.9736 - lr: 0.0010\n",
      "Epoch 23/100\n",
      "302/303 [============================>.] - ETA: 0s - loss: 0.0547 - categorical_accuracy: 0.9855\n",
      "Epoch 23: val_categorical_accuracy did not improve from 0.97555\n",
      "303/303 [==============================] - 13s 42ms/step - loss: 0.0547 - categorical_accuracy: 0.9856 - val_loss: 0.1022 - val_categorical_accuracy: 0.9738 - lr: 0.0010\n",
      "Epoch 24/100\n",
      "302/303 [============================>.] - ETA: 0s - loss: 0.0549 - categorical_accuracy: 0.9854\n",
      "Epoch 24: val_categorical_accuracy did not improve from 0.97555\n",
      "303/303 [==============================] - 13s 42ms/step - loss: 0.0549 - categorical_accuracy: 0.9854 - val_loss: 0.0967 - val_categorical_accuracy: 0.9748 - lr: 0.0010\n",
      "Epoch 25/100\n",
      "302/303 [============================>.] - ETA: 0s - loss: 0.0528 - categorical_accuracy: 0.9861\n",
      "Epoch 25: val_categorical_accuracy did not improve from 0.97555\n",
      "303/303 [==============================] - 13s 42ms/step - loss: 0.0528 - categorical_accuracy: 0.9861 - val_loss: 0.1049 - val_categorical_accuracy: 0.9748 - lr: 0.0010\n",
      "Epoch 26/100\n",
      "302/303 [============================>.] - ETA: 0s - loss: 0.0520 - categorical_accuracy: 0.9862\n",
      "Epoch 26: val_categorical_accuracy did not improve from 0.97555\n",
      "303/303 [==============================] - 13s 42ms/step - loss: 0.0520 - categorical_accuracy: 0.9862 - val_loss: 0.1107 - val_categorical_accuracy: 0.9725 - lr: 0.0010\n",
      "Epoch 27/100\n",
      "303/303 [==============================] - ETA: 0s - loss: 0.0506 - categorical_accuracy: 0.9866\n",
      "Epoch 27: val_categorical_accuracy did not improve from 0.97555\n",
      "303/303 [==============================] - 13s 41ms/step - loss: 0.0506 - categorical_accuracy: 0.9866 - val_loss: 0.1052 - val_categorical_accuracy: 0.9732 - lr: 0.0010\n",
      "Epoch 28/100\n",
      "302/303 [============================>.] - ETA: 0s - loss: 0.0503 - categorical_accuracy: 0.9872\n",
      "Epoch 28: val_categorical_accuracy did not improve from 0.97555\n",
      "303/303 [==============================] - 13s 42ms/step - loss: 0.0502 - categorical_accuracy: 0.9872 - val_loss: 0.1032 - val_categorical_accuracy: 0.9746 - lr: 0.0010\n",
      "Epoch 29/100\n",
      "302/303 [============================>.] - ETA: 0s - loss: 0.0489 - categorical_accuracy: 0.9875\n",
      "Epoch 29: val_categorical_accuracy did not improve from 0.97555\n",
      "303/303 [==============================] - 13s 42ms/step - loss: 0.0489 - categorical_accuracy: 0.9875 - val_loss: 0.1182 - val_categorical_accuracy: 0.9735 - lr: 0.0010\n",
      "Epoch 30/100\n",
      "302/303 [============================>.] - ETA: 0s - loss: 0.0477 - categorical_accuracy: 0.9875\n",
      "Epoch 30: val_categorical_accuracy did not improve from 0.97555\n",
      "303/303 [==============================] - 13s 42ms/step - loss: 0.0476 - categorical_accuracy: 0.9875 - val_loss: 0.1090 - val_categorical_accuracy: 0.9742 - lr: 0.0010\n",
      "Epoch 31/100\n",
      "302/303 [============================>.] - ETA: 0s - loss: 0.0478 - categorical_accuracy: 0.9875\n",
      "Epoch 31: val_categorical_accuracy did not improve from 0.97555\n",
      "303/303 [==============================] - 13s 42ms/step - loss: 0.0478 - categorical_accuracy: 0.9875 - val_loss: 0.1070 - val_categorical_accuracy: 0.9739 - lr: 0.0010\n",
      "Epoch 32/100\n",
      "303/303 [==============================] - ETA: 0s - loss: 0.0469 - categorical_accuracy: 0.9875\n",
      "Epoch 32: val_categorical_accuracy did not improve from 0.97555\n",
      "303/303 [==============================] - 13s 42ms/step - loss: 0.0469 - categorical_accuracy: 0.9875 - val_loss: 0.1084 - val_categorical_accuracy: 0.9735 - lr: 0.0010\n",
      "Epoch 33/100\n",
      "303/303 [==============================] - ETA: 0s - loss: 0.0466 - categorical_accuracy: 0.9878\n",
      "Epoch 33: val_categorical_accuracy did not improve from 0.97555\n",
      "303/303 [==============================] - 13s 42ms/step - loss: 0.0466 - categorical_accuracy: 0.9878 - val_loss: 0.1113 - val_categorical_accuracy: 0.9735 - lr: 0.0010\n",
      "Epoch 33: early stopping\n",
      "Tempo de treinamento:  7.208359436194102\n"
     ]
    }
   ],
   "source": [
    "num_epocas = 100\n",
    "inicio = time.time()\n",
    "hist = model.fit(train_inputs, train_labels, batch_size = 255,\n",
    "                 epochs = num_epocas, validation_data=(test_inputs, test_labels),\n",
    "                 callbacks = [checkpoint, reduce_lr_on_plateau, early_stopping],\n",
    "                 verbose = 1)\n",
    "fim = time.time()\n",
    "print('Tempo de treinamento: ',(fim - inicio)/60)"
   ]
  },
  {
   "cell_type": "markdown",
   "metadata": {},
   "source": [
    "## Plotando os resultados"
   ]
  },
  {
   "cell_type": "code",
   "execution_count": 63,
   "metadata": {},
   "outputs": [
    {
     "data": {
      "image/png": "[encoded data removed]",
      "text/plain": [
       "<Figure size 1800x800 with 1 Axes>"
      ]
     },
     "metadata": {},
     "output_type": "display_data"
    }
   ],
   "source": [
    "sns.set_style(\"whitegrid\")\n",
    "metrics_df_acc = pd.DataFrame(\n",
    "    {\n",
    "         \"categorical_accuracy\": hist.history['categorical_accuracy'],\n",
    "         \"val_categorical_accuracy\" : hist.history['val_categorical_accuracy']\n",
    "     }\n",
    ")\n",
    "plt.figure(figsize=(18,8))\n",
    "ax = sns.lineplot(data=metrics_df_acc, palette=\"muted\",markers=True)"
   ]
  },
  {
   "cell_type": "code",
   "execution_count": 64,
   "metadata": {},
   "outputs": [
    {
     "data": {
      "image/png": "[encoded data removed]",
      "text/plain": [
       "<Figure size 1800x800 with 1 Axes>"
      ]
     },
     "metadata": {},
     "output_type": "display_data"
    }
   ],
   "source": [
    "metrics_df_loss = pd.DataFrame(\n",
    "    {\n",
    "         \"loss\" : hist.history['loss'],\n",
    "         \"val_loss\" : hist.history['val_loss']\n",
    "     }\n",
    ")\n",
    "plt.figure(figsize=(18,8))\n",
    "ax = sns.lineplot(data=metrics_df_loss, palette=\"muted\",markers=True)"
   ]
  },
  {
   "cell_type": "markdown",
   "metadata": {},
   "source": [
    "## Salvando o modelo"
   ]
  },
  {
   "cell_type": "code",
   "execution_count": 79,
   "metadata": {},
   "outputs": [],
   "source": [
    "model.save(\"modelo_atencao.h5\")\n"
   ]
  },
  {
   "cell_type": "code",
   "execution_count": 65,
   "metadata": {},
   "outputs": [],
   "source": [
    "    \n",
    "# salvando o vacabolário\n",
    "with open(f\"{path_modelos}/{data_hora}/tokenizer.pickle\",\"wb\") as file_handle:\n",
    "    pickle.dump(tokenizer, file_handle, protocol=pickle.HIGHEST_PROTOCOL)\n",
    "    \n",
    "# teste para um texto\n",
    "categorias = list(onehot_encoder.categories_[0])\n",
    "\n",
    "# salvando as categorias\n",
    "with open(f\"{path_modelos}/{data_hora}/categorias.pickle\",\"wb\") as file_handle:\n",
    "    pickle.dump(categorias, file_handle, protocol=pickle.HIGHEST_PROTOCOL)"
   ]
  },
  {
   "cell_type": "markdown",
   "metadata": {},
   "source": [
    "## Avaliando o modelo base de teste"
   ]
  },
  {
   "cell_type": "code",
   "execution_count": 87,
   "metadata": {},
   "outputs": [
    {
     "name": "stdout",
     "output_type": "stream",
     "text": [
      "WARNING:tensorflow:Error in loading the saved optimizer state. As a result, your model is starting with a freshly initialized optimizer.\n",
      "Model: \"model_6\"\n",
      "__________________________________________________________________________________________________\n",
      " Layer (type)                   Output Shape         Param #     Connected to                     \n",
      "==================================================================================================\n",
      " input_7 (InputLayer)           [(None, 100)]        0           []                               \n",
      "                                                                                                  \n",
      " embedding_layer (Embedding)    (None, 100, 100)     4583700     ['input_7[0][0]']                \n",
      "                                                                                                  \n",
      " dropout_12 (Dropout)           (None, 100, 100)     0           ['embedding_layer[0][0]']        \n",
      "                                                                                                  \n",
      " bidirectional_12 (Bidirectiona  (None, 100, 80)     45120       ['dropout_12[0][0]']             \n",
      " l)                                                                                               \n",
      "                                                                                                  \n",
      " bidirectional_13 (Bidirectiona  (None, 100, 80)     34080       ['dropout_12[0][0]']             \n",
      " l)                                                                                               \n",
      "                                                                                                  \n",
      " Attention_LSTM (Attention)     (None, 80)           4100        ['bidirectional_12[0][0]']       \n",
      "                                                                                                  \n",
      " Attention_GRU (Attention)      (None, 80)           4100        ['bidirectional_13[0][0]']       \n",
      "                                                                                                  \n",
      " concatenate_6 (Concatenate)    (None, 160)          0           ['Attention_LSTM[0][0]',         \n",
      "                                                                  'Attention_GRU[0][0]']          \n",
      "                                                                                                  \n",
      " dense_12 (Dense)               (None, 16)           2576        ['concatenate_6[0][0]']          \n",
      "                                                                                                  \n",
      " activation_6 (Activation)      (None, 16)           0           ['dense_12[0][0]']               \n",
      "                                                                                                  \n",
      " dropout_13 (Dropout)           (None, 16)           0           ['activation_6[0][0]']           \n",
      "                                                                                                  \n",
      " flatten_6 (Flatten)            (None, 16)           0           ['dropout_13[0][0]']             \n",
      "                                                                                                  \n",
      " dense_13 (Dense)               (None, 3)            51          ['flatten_6[0][0]']              \n",
      "                                                                                                  \n",
      "==================================================================================================\n",
      "Total params: 4,673,727\n",
      "Trainable params: 4,673,727\n",
      "Non-trainable params: 0\n",
      "__________________________________________________________________________________________________\n"
     ]
    }
   ],
   "source": [
    "from tensorflow.keras.models import load_model\n",
    "\n",
    "# Registrar objetos personalizados\n",
    "custom_objects = {\n",
    "    \"Attention\": Attention,          # Classe de atenção\n",
    "    \"GeluActivation\": GeluActivation # Função de ativação personalizada\n",
    "}\n",
    "\n",
    "# Carregar o modelo\n",
    "modelo_carregado = load_model(\"modelo_atencao.h5\", custom_objects=custom_objects)\n",
    "\n",
    "# Exibir o resumo do modelo carregado\n",
    "modelo_carregado.summary()\n"
   ]
  },
  {
   "cell_type": "code",
   "execution_count": 88,
   "metadata": {},
   "outputs": [
    {
     "name": "stdout",
     "output_type": "stream",
     "text": [
      "194/194 [==============================] - 5s 19ms/step\n",
      "Acurácia 0.9755503755503756\n",
      "Precision 0.9755503755503756\n",
      "Recall 0.9755503755503756\n"
     ]
    }
   ],
   "source": [
    "text_to_predict = modelo_carregado.predict(test_inputs, batch_size=100)\n",
    "\n",
    "predict_label = []\n",
    "for index in text_to_predict:\n",
    "    #print(index) \n",
    "    predict_label.append(np.argmax(index))\n",
    "    \n",
    "real_label = []\n",
    "for index in test_labels:\n",
    "    #print(index) \n",
    "    real_label.append(np.argmax(index))\n",
    "            \n",
    "acuracia = accuracy_score(predict_label, real_label)\n",
    "print('Acurácia', acuracia)\n",
    "precision = precision_score(predict_label, real_label, average='micro')\n",
    "print('Precision', precision)\n",
    "recall = recall_score(predict_label, real_label, average='micro')\n",
    "print('Recall', recall)"
   ]
  },
  {
   "cell_type": "code",
   "execution_count": 67,
   "metadata": {},
   "outputs": [
    {
     "name": "stdout",
     "output_type": "stream",
     "text": [
      "              precision    recall  f1-score   support\n",
      "\n",
      "    negativo       0.98      0.99      0.98      6370\n",
      "    positivo       0.97      0.97      0.97      6321\n",
      "      neutro       0.97      0.96      0.96      6614\n",
      "\n",
      "    accuracy                           0.97     19305\n",
      "   macro avg       0.97      0.97      0.97     19305\n",
      "weighted avg       0.97      0.97      0.97     19305\n",
      "\n"
     ]
    }
   ],
   "source": [
    "print(classification_report(predict_label, real_label, target_names=['negativo', 'positivo', 'neutro']))"
   ]
  },
  {
   "cell_type": "markdown",
   "metadata": {},
   "source": [
    "## Avaliando o modelo toda a base"
   ]
  },
  {
   "cell_type": "code",
   "execution_count": 89,
   "metadata": {},
   "outputs": [
    {
     "name": "stdout",
     "output_type": "stream",
     "text": [
      "966/966 [==============================] - 14s 15ms/step\n",
      "Acurácia 0.9835476217610676\n",
      "Precision 0.9835476217610676\n",
      "Recall 0.9835476217610676\n"
     ]
    }
   ],
   "source": [
    "text_to_predict = modelo_carregado.predict(pad_x, batch_size=100)\n",
    "predict_label = []\n",
    "for index in text_to_predict:\n",
    "    #print(index) \n",
    "    predict_label.append(np.argmax(index))\n",
    "    \n",
    "real_label = []\n",
    "for index in y_encoder:\n",
    "    #print(index) \n",
    "    real_label.append(np.argmax(index))\n",
    "            \n",
    "acuracia = accuracy_score(predict_label, real_label)\n",
    "print('Acurácia', acuracia)\n",
    "precision = precision_score(predict_label, real_label, average='micro')\n",
    "print('Precision', precision)\n",
    "recall = recall_score(predict_label, real_label, average='micro')\n",
    "print('Recall', recall)"
   ]
  },
  {
   "cell_type": "code",
   "execution_count": 90,
   "metadata": {},
   "outputs": [],
   "source": [
    "previsoes = [categorias[idx] for idx in predict_label]\n",
    "classes = base_dados['sentimento'].values.tolist()"
   ]
  },
  {
   "cell_type": "code",
   "execution_count": 91,
   "metadata": {},
   "outputs": [
    {
     "name": "stdout",
     "output_type": "stream",
     "text": [
      "              precision    recall  f1-score   support\n",
      "\n",
      "    negativo       1.00      0.98      0.99     32331\n",
      "    positivo       0.99      0.99      0.99     31556\n",
      "      neutro       0.97      0.99      0.98     32634\n",
      "\n",
      "    accuracy                           0.98     96521\n",
      "   macro avg       0.98      0.98      0.98     96521\n",
      "weighted avg       0.98      0.98      0.98     96521\n",
      "\n"
     ]
    }
   ],
   "source": [
    "report = classification_report(classes, previsoes, target_names=['negativo', 'positivo', 'neutro'])\n",
    "print(report)"
   ]
  },
  {
   "cell_type": "code",
   "execution_count": 92,
   "metadata": {},
   "outputs": [
    {
     "name": "stdout",
     "output_type": "stream",
     "text": [
      "Relatório de classificação salvo com sucesso em relatorio_classificacao.txt\n"
     ]
    }
   ],
   "source": [
    "nome_arquivo = \"relatorio_classificacao.txt\"\n",
    "\n",
    "with open(nome_arquivo, 'w', encoding='utf-8') as arquivo:\n",
    "    print(report, file=arquivo)\n",
    "\n",
    "print(\"Relatório de classificação salvo com sucesso em\", nome_arquivo)"
   ]
  }
 ],
 "metadata": {
  "kernelspec": {
   "display_name": "GPU",
   "language": "python",
   "name": "python3"
  },
  "language_info": {
   "codemirror_mode": {
    "name": "ipython",
    "version": 3
   },
   "file_extension": ".py",
   "mimetype": "text/x-python",
   "name": "python",
   "nbconvert_exporter": "python",
   "pygments_lexer": "ipython3",
   "version": "3.8.20"
  }
 },
 "nbformat": 4,
 "nbformat_minor": 2
}
